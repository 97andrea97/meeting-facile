{
 "cells": [
  {
   "cell_type": "markdown",
   "metadata": {},
   "source": [
    "salva disponibilità sopra il calendario, e di fianco ad una Colonna che reassume gli slot (=consecutive time period indicated by time of start and time of end) in cui la persona ha dato disponibilità \n",
    "\n",
    "scegli intervallo di orario inizio e fine\n",
    "\n",
    "time zone\n",
    "\n",
    "legenda con colori per ogni user\n",
    "\n",
    "indica in qualche modo la disponibilità di tutti gli users e anche la disponibilità di users selezionati (quindi anche un sistema che permetta di selezionare I vari users)\n",
    "\n",
    "togli \"inizia\"\n",
    "\n",
    "delete a slot\n",
    "\n",
    "merged slots in the disponibilità comune\n",
    "\n",
    "deselection of your own user\n",
    "\n",
    "seleziona de-seleziona tutti\n"
   ]
  },
  {
   "cell_type": "markdown",
   "metadata": {},
   "source": []
  }
 ],
 "metadata": {
  "language_info": {
   "name": "python"
  }
 },
 "nbformat": 4,
 "nbformat_minor": 2
}
